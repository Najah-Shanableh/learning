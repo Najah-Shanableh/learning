{
 "metadata": {
  "name": "pandas_presentation"
 },
 "nbformat": 3,
 "nbformat_minor": 0,
 "worksheets": [
  {
   "cells": [
    {
     "cell_type": "code",
     "collapsed": false,
     "input": "from pandas import DataFrame, Series\nimport pandas as pd\nimport numpy as np\nfrom numpy.random import randn",
     "language": "python",
     "metadata": {},
     "outputs": [],
     "prompt_number": 4
    },
    {
     "cell_type": "code",
     "collapsed": false,
     "input": "Series(randn(5)) ",
     "language": "python",
     "metadata": {},
     "outputs": [
      {
       "output_type": "pyout",
       "prompt_number": 5,
       "text": "0   -1.059331\n1    1.187718\n2    0.111228\n3   -0.096642\n4    0.686219"
      }
     ],
     "prompt_number": 5
    },
    {
     "cell_type": "code",
     "collapsed": false,
     "input": "i = randn(5)\ni_names = ['andrea', 'bob', 'evan', 'rob', 'kayla']\ns=Series(i, i_names)",
     "language": "python",
     "metadata": {},
     "outputs": [],
     "prompt_number": 6
    },
    {
     "cell_type": "code",
     "collapsed": false,
     "input": "s",
     "language": "python",
     "metadata": {},
     "outputs": [
      {
       "output_type": "pyout",
       "prompt_number": 7,
       "text": "andrea   -0.598713\nbob      -0.521552\nevan     -0.498525\nrob      -0.297989\nkayla    -0.504560"
      }
     ],
     "prompt_number": 7
    },
    {
     "cell_type": "code",
     "collapsed": false,
     "input": "d={'a': 10, 'b': 20, 'c': 30}\nSeries(d)",
     "language": "python",
     "metadata": {},
     "outputs": [
      {
       "output_type": "pyout",
       "prompt_number": 8,
       "text": "a    10\nb    20\nc    30"
      }
     ],
     "prompt_number": 8
    },
    {
     "cell_type": "code",
     "collapsed": false,
     "input": "Series(d, index=['b', 'c', 'd', 'a'])",
     "language": "python",
     "metadata": {},
     "outputs": [
      {
       "output_type": "pyout",
       "prompt_number": 9,
       "text": "b    20\nc    30\nd   NaN\na    10"
      }
     ],
     "prompt_number": 9
    },
    {
     "cell_type": "code",
     "collapsed": false,
     "input": "s[1]",
     "language": "python",
     "metadata": {},
     "outputs": [
      {
       "output_type": "pyout",
       "prompt_number": 10,
       "text": "-0.52155160419211044"
      }
     ],
     "prompt_number": 10
    },
    {
     "cell_type": "code",
     "collapsed": false,
     "input": "s[:3]   ",
     "language": "python",
     "metadata": {},
     "outputs": [
      {
       "output_type": "pyout",
       "prompt_number": 11,
       "text": "andrea   -0.598713\nbob      -0.521552\nevan     -0.498525"
      }
     ],
     "prompt_number": 11
    },
    {
     "cell_type": "code",
     "collapsed": false,
     "input": "s[s > s.median()]",
     "language": "python",
     "metadata": {},
     "outputs": [
      {
       "output_type": "pyout",
       "prompt_number": 12,
       "text": "evan   -0.498525\nrob    -0.297989"
      }
     ],
     "prompt_number": 12
    },
    {
     "cell_type": "code",
     "collapsed": false,
     "input": "np.exp(s)",
     "language": "python",
     "metadata": {},
     "outputs": [
      {
       "output_type": "pyout",
       "prompt_number": 13,
       "text": "andrea    0.549519\nbob       0.593599\nevan      0.607426\nrob       0.742309\nkayla     0.603771"
      }
     ],
     "prompt_number": 13
    },
    {
     "cell_type": "code",
     "collapsed": false,
     "input": "s['evan']=9\ns",
     "language": "python",
     "metadata": {},
     "outputs": [
      {
       "output_type": "pyout",
       "prompt_number": 14,
       "text": "andrea   -0.598713\nbob      -0.521552\nevan      9.000000\nrob      -0.297989\nkayla    -0.504560"
      }
     ],
     "prompt_number": 14
    },
    {
     "cell_type": "code",
     "collapsed": false,
     "input": "'bob' in s",
     "language": "python",
     "metadata": {},
     "outputs": [
      {
       "output_type": "pyout",
       "prompt_number": 15,
       "text": "True"
      }
     ],
     "prompt_number": 15
    },
    {
     "cell_type": "code",
     "collapsed": false,
     "input": "data = {'state': ['Ohio', 'Ohio', 'Ohio', 'Nevada', 'Nevada'],\n        'year': [2000, 2001, 2002, 2001, 2002],\n        'pop': [1.5, 1.7, 3.6, 2.4, 2.9]}\ndf = DataFrame(data)\ndf",
     "language": "python",
     "metadata": {},
     "outputs": [
      {
       "html": "<div style=\"max-height:1000px;max-width:1500px;overflow:auto;\">\n<table border=\"1\" class=\"dataframe\">\n  <thead>\n    <tr style=\"text-align: right;\">\n      <th></th>\n      <th>pop</th>\n      <th>state</th>\n      <th>year</th>\n    </tr>\n  </thead>\n  <tbody>\n    <tr>\n      <td><strong>0</strong></td>\n      <td> 1.5</td>\n      <td>   Ohio</td>\n      <td> 2000</td>\n    </tr>\n    <tr>\n      <td><strong>1</strong></td>\n      <td> 1.7</td>\n      <td>   Ohio</td>\n      <td> 2001</td>\n    </tr>\n    <tr>\n      <td><strong>2</strong></td>\n      <td> 3.6</td>\n      <td>   Ohio</td>\n      <td> 2002</td>\n    </tr>\n    <tr>\n      <td><strong>3</strong></td>\n      <td> 2.4</td>\n      <td> Nevada</td>\n      <td> 2001</td>\n    </tr>\n    <tr>\n      <td><strong>4</strong></td>\n      <td> 2.9</td>\n      <td> Nevada</td>\n      <td> 2002</td>\n    </tr>\n  </tbody>\n</table>\n</div>",
       "output_type": "pyout",
       "prompt_number": 16,
       "text": "   pop   state  year\n0  1.5    Ohio  2000\n1  1.7    Ohio  2001\n2  3.6    Ohio  2002\n3  2.4  Nevada  2001\n4  2.9  Nevada  2002"
      }
     ],
     "prompt_number": 16
    },
    {
     "cell_type": "code",
     "collapsed": false,
     "input": "df = DataFrame(data, columns=['state', 'year', 'pop'])\ndf",
     "language": "python",
     "metadata": {},
     "outputs": [
      {
       "html": "<div style=\"max-height:1000px;max-width:1500px;overflow:auto;\">\n<table border=\"1\" class=\"dataframe\">\n  <thead>\n    <tr style=\"text-align: right;\">\n      <th></th>\n      <th>state</th>\n      <th>year</th>\n      <th>pop</th>\n    </tr>\n  </thead>\n  <tbody>\n    <tr>\n      <td><strong>0</strong></td>\n      <td>   Ohio</td>\n      <td> 2000</td>\n      <td> 1.5</td>\n    </tr>\n    <tr>\n      <td><strong>1</strong></td>\n      <td>   Ohio</td>\n      <td> 2001</td>\n      <td> 1.7</td>\n    </tr>\n    <tr>\n      <td><strong>2</strong></td>\n      <td>   Ohio</td>\n      <td> 2002</td>\n      <td> 3.6</td>\n    </tr>\n    <tr>\n      <td><strong>3</strong></td>\n      <td> Nevada</td>\n      <td> 2001</td>\n      <td> 2.4</td>\n    </tr>\n    <tr>\n      <td><strong>4</strong></td>\n      <td> Nevada</td>\n      <td> 2002</td>\n      <td> 2.9</td>\n    </tr>\n  </tbody>\n</table>\n</div>",
       "output_type": "pyout",
       "prompt_number": 17,
       "text": "    state  year  pop\n0    Ohio  2000  1.5\n1    Ohio  2001  1.7\n2    Ohio  2002  3.6\n3  Nevada  2001  2.4\n4  Nevada  2002  2.9"
      }
     ],
     "prompt_number": 17
    },
    {
     "cell_type": "code",
     "collapsed": false,
     "input": "df = DataFrame(data, columns=['year', 'state', 'pop', 'debt'], index=['one', 'two', 'three', 'four', 'five'])\ndf",
     "language": "python",
     "metadata": {},
     "outputs": [
      {
       "html": "<div style=\"max-height:1000px;max-width:1500px;overflow:auto;\">\n<table border=\"1\" class=\"dataframe\">\n  <thead>\n    <tr style=\"text-align: right;\">\n      <th></th>\n      <th>year</th>\n      <th>state</th>\n      <th>pop</th>\n      <th>debt</th>\n    </tr>\n  </thead>\n  <tbody>\n    <tr>\n      <td><strong>one</strong></td>\n      <td> 2000</td>\n      <td>   Ohio</td>\n      <td> 1.5</td>\n      <td> NaN</td>\n    </tr>\n    <tr>\n      <td><strong>two</strong></td>\n      <td> 2001</td>\n      <td>   Ohio</td>\n      <td> 1.7</td>\n      <td> NaN</td>\n    </tr>\n    <tr>\n      <td><strong>three</strong></td>\n      <td> 2002</td>\n      <td>   Ohio</td>\n      <td> 3.6</td>\n      <td> NaN</td>\n    </tr>\n    <tr>\n      <td><strong>four</strong></td>\n      <td> 2001</td>\n      <td> Nevada</td>\n      <td> 2.4</td>\n      <td> NaN</td>\n    </tr>\n    <tr>\n      <td><strong>five</strong></td>\n      <td> 2002</td>\n      <td> Nevada</td>\n      <td> 2.9</td>\n      <td> NaN</td>\n    </tr>\n  </tbody>\n</table>\n</div>",
       "output_type": "pyout",
       "prompt_number": 18,
       "text": "       year   state  pop debt\none    2000    Ohio  1.5  NaN\ntwo    2001    Ohio  1.7  NaN\nthree  2002    Ohio  3.6  NaN\nfour   2001  Nevada  2.4  NaN\nfive   2002  Nevada  2.9  NaN"
      }
     ],
     "prompt_number": 18
    },
    {
     "cell_type": "code",
     "collapsed": false,
     "input": "df['state']",
     "language": "python",
     "metadata": {},
     "outputs": [
      {
       "output_type": "pyout",
       "prompt_number": 19,
       "text": "one        Ohio\ntwo        Ohio\nthree      Ohio\nfour     Nevada\nfive     Nevada\nName: state"
      }
     ],
     "prompt_number": 19
    },
    {
     "cell_type": "code",
     "collapsed": false,
     "input": "df.year",
     "language": "python",
     "metadata": {},
     "outputs": [
      {
       "output_type": "pyout",
       "prompt_number": 20,
       "text": "one      2000\ntwo      2001\nthree    2002\nfour     2001\nfive     2002\nName: year"
      }
     ],
     "prompt_number": 20
    },
    {
     "cell_type": "code",
     "collapsed": false,
     "input": "df['debt'] = np.arange(5.)\ndf",
     "language": "python",
     "metadata": {},
     "outputs": [
      {
       "html": "<div style=\"max-height:1000px;max-width:1500px;overflow:auto;\">\n<table border=\"1\" class=\"dataframe\">\n  <thead>\n    <tr style=\"text-align: right;\">\n      <th></th>\n      <th>year</th>\n      <th>state</th>\n      <th>pop</th>\n      <th>debt</th>\n    </tr>\n  </thead>\n  <tbody>\n    <tr>\n      <td><strong>one</strong></td>\n      <td> 2000</td>\n      <td>   Ohio</td>\n      <td> 1.5</td>\n      <td> 0</td>\n    </tr>\n    <tr>\n      <td><strong>two</strong></td>\n      <td> 2001</td>\n      <td>   Ohio</td>\n      <td> 1.7</td>\n      <td> 1</td>\n    </tr>\n    <tr>\n      <td><strong>three</strong></td>\n      <td> 2002</td>\n      <td>   Ohio</td>\n      <td> 3.6</td>\n      <td> 2</td>\n    </tr>\n    <tr>\n      <td><strong>four</strong></td>\n      <td> 2001</td>\n      <td> Nevada</td>\n      <td> 2.4</td>\n      <td> 3</td>\n    </tr>\n    <tr>\n      <td><strong>five</strong></td>\n      <td> 2002</td>\n      <td> Nevada</td>\n      <td> 2.9</td>\n      <td> 4</td>\n    </tr>\n  </tbody>\n</table>\n</div>",
       "output_type": "pyout",
       "prompt_number": 21,
       "text": "       year   state  pop  debt\none    2000    Ohio  1.5     0\ntwo    2001    Ohio  1.7     1\nthree  2002    Ohio  3.6     2\nfour   2001  Nevada  2.4     3\nfive   2002  Nevada  2.9     4"
      }
     ],
     "prompt_number": 21
    },
    {
     "cell_type": "code",
     "collapsed": false,
     "input": "df.T",
     "language": "python",
     "metadata": {},
     "outputs": [
      {
       "html": "<div style=\"max-height:1000px;max-width:1500px;overflow:auto;\">\n<table border=\"1\" class=\"dataframe\">\n  <thead>\n    <tr style=\"text-align: right;\">\n      <th></th>\n      <th>one</th>\n      <th>two</th>\n      <th>three</th>\n      <th>four</th>\n      <th>five</th>\n    </tr>\n  </thead>\n  <tbody>\n    <tr>\n      <td><strong>year</strong></td>\n      <td> 2000</td>\n      <td> 2001</td>\n      <td> 2002</td>\n      <td>   2001</td>\n      <td>   2002</td>\n    </tr>\n    <tr>\n      <td><strong>state</strong></td>\n      <td> Ohio</td>\n      <td> Ohio</td>\n      <td> Ohio</td>\n      <td> Nevada</td>\n      <td> Nevada</td>\n    </tr>\n    <tr>\n      <td><strong>pop</strong></td>\n      <td>  1.5</td>\n      <td>  1.7</td>\n      <td>  3.6</td>\n      <td>    2.4</td>\n      <td>    2.9</td>\n    </tr>\n    <tr>\n      <td><strong>debt</strong></td>\n      <td>    0</td>\n      <td>    1</td>\n      <td>    2</td>\n      <td>      3</td>\n      <td>      4</td>\n    </tr>\n  </tbody>\n</table>\n</div>",
       "output_type": "pyout",
       "prompt_number": 22,
       "text": "        one   two three    four    five\nyear   2000  2001  2002    2001    2002\nstate  Ohio  Ohio  Ohio  Nevada  Nevada\npop     1.5   1.7   3.6     2.4     2.9\ndebt      0     1     2       3       4"
      }
     ],
     "prompt_number": 22
    },
    {
     "cell_type": "code",
     "collapsed": false,
     "input": "'be retrieved by position or name by a couple of methods, such as the'\n'ix indexing field'\ndf.ix[1,]",
     "language": "python",
     "metadata": {},
     "outputs": [
      {
       "output_type": "pyout",
       "prompt_number": 41,
       "text": "pop       1.7\nstate    Ohio\nyear     2001\nName: 1"
      }
     ],
     "prompt_number": 41
    },
    {
     "cell_type": "code",
     "collapsed": false,
     "input": "df.ix[:1]",
     "language": "python",
     "metadata": {},
     "outputs": [
      {
       "html": "<div style=\"max-height:1000px;max-width:1500px;overflow:auto;\">\n<table border=\"1\" class=\"dataframe\">\n  <thead>\n    <tr style=\"text-align: right;\">\n      <th></th>\n      <th>year</th>\n      <th>state</th>\n      <th>pop</th>\n      <th>debt</th>\n    </tr>\n  </thead>\n  <tbody>\n    <tr>\n      <td><strong>one</strong></td>\n      <td> 2000</td>\n      <td> Ohio</td>\n      <td> 1.5</td>\n      <td> 0</td>\n    </tr>\n  </tbody>\n</table>\n</div>",
       "output_type": "pyout",
       "prompt_number": 24,
       "text": "     year state  pop  debt\none  2000  Ohio  1.5     0"
      }
     ],
     "prompt_number": 24
    },
    {
     "cell_type": "code",
     "collapsed": false,
     "input": "df.ix[[0,2,4]]",
     "language": "python",
     "metadata": {},
     "outputs": [
      {
       "html": "<div style=\"max-height:1000px;max-width:1500px;overflow:auto;\">\n<table border=\"1\" class=\"dataframe\">\n  <thead>\n    <tr style=\"text-align: right;\">\n      <th></th>\n      <th>year</th>\n      <th>state</th>\n      <th>pop</th>\n      <th>debt</th>\n    </tr>\n  </thead>\n  <tbody>\n    <tr>\n      <td><strong>one</strong></td>\n      <td> 2000</td>\n      <td>   Ohio</td>\n      <td> 1.5</td>\n      <td> 0</td>\n    </tr>\n    <tr>\n      <td><strong>three</strong></td>\n      <td> 2002</td>\n      <td>   Ohio</td>\n      <td> 3.6</td>\n      <td> 2</td>\n    </tr>\n    <tr>\n      <td><strong>five</strong></td>\n      <td> 2002</td>\n      <td> Nevada</td>\n      <td> 2.9</td>\n      <td> 4</td>\n    </tr>\n  </tbody>\n</table>\n</div>",
       "output_type": "pyout",
       "prompt_number": 25,
       "text": "       year   state  pop  debt\none    2000    Ohio  1.5     0\nthree  2002    Ohio  3.6     2\nfive   2002  Nevada  2.9     4"
      }
     ],
     "prompt_number": 25
    },
    {
     "cell_type": "code",
     "collapsed": false,
     "input": "data = Series(np.random.randn(10),\n              index=[['a', 'a', 'a', 'b', 'b', 'b', 'c', 'c', 'd', 'd'],\n                     [1, 2, 3, 1, 2, 3, 1, 2, 2, 3]])\ndata",
     "language": "python",
     "metadata": {},
     "outputs": [
      {
       "output_type": "pyout",
       "prompt_number": 26,
       "text": "a  1    0.273867\n   2    0.149169\n   3   -0.718225\nb  1   -2.536577\n   2   -0.856578\n   3   -1.222951\nc  1    0.067286\n   2   -2.261450\nd  2    0.460769\n   3   -1.144153"
      }
     ],
     "prompt_number": 26
    },
    {
     "cell_type": "code",
     "collapsed": false,
     "input": "data.index",
     "language": "python",
     "metadata": {},
     "outputs": [
      {
       "output_type": "pyout",
       "prompt_number": 27,
       "text": "MultiIndex\n[(a, 1), (a, 2), (a, 3), (b, 1), (b, 2), (b, 3), (c, 1), (c, 2), (d, 2), (d, 3)]"
      }
     ],
     "prompt_number": 27
    },
    {
     "cell_type": "code",
     "collapsed": false,
     "input": "df1 = DataFrame({'key': ['a', 'b', 'c', 'd', 'e'], \n                 'data1': range(5)})\ndf2 = DataFrame({'key': ['a', 'd', 'f'], \n                 'data2': [1000, 2000, 3000]})\ndf1",
     "language": "python",
     "metadata": {},
     "outputs": [
      {
       "html": "<div style=\"max-height:1000px;max-width:1500px;overflow:auto;\">\n<table border=\"1\" class=\"dataframe\">\n  <thead>\n    <tr style=\"text-align: right;\">\n      <th></th>\n      <th>data1</th>\n      <th>key</th>\n    </tr>\n  </thead>\n  <tbody>\n    <tr>\n      <td><strong>0</strong></td>\n      <td> 0</td>\n      <td> a</td>\n    </tr>\n    <tr>\n      <td><strong>1</strong></td>\n      <td> 1</td>\n      <td> b</td>\n    </tr>\n    <tr>\n      <td><strong>2</strong></td>\n      <td> 2</td>\n      <td> c</td>\n    </tr>\n    <tr>\n      <td><strong>3</strong></td>\n      <td> 3</td>\n      <td> d</td>\n    </tr>\n    <tr>\n      <td><strong>4</strong></td>\n      <td> 4</td>\n      <td> e</td>\n    </tr>\n  </tbody>\n</table>\n</div>",
       "output_type": "pyout",
       "prompt_number": 28,
       "text": "   data1 key\n0      0   a\n1      1   b\n2      2   c\n3      3   d\n4      4   e"
      }
     ],
     "prompt_number": 28
    },
    {
     "cell_type": "code",
     "collapsed": false,
     "input": "df2",
     "language": "python",
     "metadata": {},
     "outputs": [
      {
       "html": "<div style=\"max-height:1000px;max-width:1500px;overflow:auto;\">\n<table border=\"1\" class=\"dataframe\">\n  <thead>\n    <tr style=\"text-align: right;\">\n      <th></th>\n      <th>data2</th>\n      <th>key</th>\n    </tr>\n  </thead>\n  <tbody>\n    <tr>\n      <td><strong>0</strong></td>\n      <td> 1000</td>\n      <td> a</td>\n    </tr>\n    <tr>\n      <td><strong>1</strong></td>\n      <td> 2000</td>\n      <td> d</td>\n    </tr>\n    <tr>\n      <td><strong>2</strong></td>\n      <td> 3000</td>\n      <td> f</td>\n    </tr>\n  </tbody>\n</table>\n</div>",
       "output_type": "pyout",
       "prompt_number": 29,
       "text": "   data2 key\n0   1000   a\n1   2000   d\n2   3000   f"
      }
     ],
     "prompt_number": 29
    },
    {
     "cell_type": "code",
     "collapsed": false,
     "input": "# merge\n#    If not specified, merge uses the overlapping column names as the keys. \n#    It\u2019s good practice to specify explicitly, though.'\npd.merge(df1, df2, on='key')",
     "language": "python",
     "metadata": {},
     "outputs": [
      {
       "html": "<div style=\"max-height:1000px;max-width:1500px;overflow:auto;\">\n<table border=\"1\" class=\"dataframe\">\n  <thead>\n    <tr style=\"text-align: right;\">\n      <th></th>\n      <th>data1</th>\n      <th>key</th>\n      <th>data2</th>\n    </tr>\n  </thead>\n  <tbody>\n    <tr>\n      <td><strong>0</strong></td>\n      <td> 0</td>\n      <td> a</td>\n      <td> 1000</td>\n    </tr>\n    <tr>\n      <td><strong>1</strong></td>\n      <td> 3</td>\n      <td> d</td>\n      <td> 2000</td>\n    </tr>\n  </tbody>\n</table>\n</div>",
       "output_type": "pyout",
       "prompt_number": 30,
       "text": "   data1 key  data2\n0      0   a   1000\n1      3   d   2000"
      }
     ],
     "prompt_number": 30
    },
    {
     "cell_type": "code",
     "collapsed": false,
     "input": "pd.merge(df1, df2, how='inner')",
     "language": "python",
     "metadata": {},
     "outputs": [
      {
       "html": "<div style=\"max-height:1000px;max-width:1500px;overflow:auto;\">\n<table border=\"1\" class=\"dataframe\">\n  <thead>\n    <tr style=\"text-align: right;\">\n      <th></th>\n      <th>data1</th>\n      <th>key</th>\n      <th>data2</th>\n    </tr>\n  </thead>\n  <tbody>\n    <tr>\n      <td><strong>0</strong></td>\n      <td> 0</td>\n      <td> a</td>\n      <td> 1000</td>\n    </tr>\n    <tr>\n      <td><strong>1</strong></td>\n      <td> 3</td>\n      <td> d</td>\n      <td> 2000</td>\n    </tr>\n  </tbody>\n</table>\n</div>",
       "output_type": "pyout",
       "prompt_number": 31,
       "text": "   data1 key  data2\n0      0   a   1000\n1      3   d   2000"
      }
     ],
     "prompt_number": 31
    },
    {
     "cell_type": "code",
     "collapsed": false,
     "input": "pd.merge(df1, df2, how='outer')",
     "language": "python",
     "metadata": {},
     "outputs": [
      {
       "html": "<div style=\"max-height:1000px;max-width:1500px;overflow:auto;\">\n<table border=\"1\" class=\"dataframe\">\n  <thead>\n    <tr style=\"text-align: right;\">\n      <th></th>\n      <th>data1</th>\n      <th>key</th>\n      <th>data2</th>\n    </tr>\n  </thead>\n  <tbody>\n    <tr>\n      <td><strong>0</strong></td>\n      <td>  0</td>\n      <td> a</td>\n      <td> 1000</td>\n    </tr>\n    <tr>\n      <td><strong>1</strong></td>\n      <td>  1</td>\n      <td> b</td>\n      <td>  NaN</td>\n    </tr>\n    <tr>\n      <td><strong>2</strong></td>\n      <td>  2</td>\n      <td> c</td>\n      <td>  NaN</td>\n    </tr>\n    <tr>\n      <td><strong>3</strong></td>\n      <td>  3</td>\n      <td> d</td>\n      <td> 2000</td>\n    </tr>\n    <tr>\n      <td><strong>4</strong></td>\n      <td>  4</td>\n      <td> e</td>\n      <td>  NaN</td>\n    </tr>\n    <tr>\n      <td><strong>5</strong></td>\n      <td>NaN</td>\n      <td> f</td>\n      <td> 3000</td>\n    </tr>\n  </tbody>\n</table>\n</div>",
       "output_type": "pyout",
       "prompt_number": 32,
       "text": "   data1 key  data2\n0      0   a   1000\n1      1   b    NaN\n2      2   c    NaN\n3      3   d   2000\n4      4   e    NaN\n5    NaN   f   3000"
      }
     ],
     "prompt_number": 32
    },
    {
     "cell_type": "code",
     "collapsed": false,
     "input": "# inner join: intersection\n    \n# outer join: union takes the union of the keys (combines the effect of applying both left and right joins)\n    \n# By default, merge does an 'inner' join",
     "language": "python",
     "metadata": {},
     "outputs": [],
     "prompt_number": 61
    },
    {
     "cell_type": "code",
     "collapsed": false,
     "input": "data = {'state': ['Ohio', 'Ohio', 'Ohio', 'Nevada', 'Nevada'],\n        'year': [2000, 2001, 2002, 2001, 2002],\n        'pop': [1.5, 1.7, 3.6, 2.4, 2.9]}\ndf = DataFrame(data)\ndf",
     "language": "python",
     "metadata": {},
     "outputs": [
      {
       "html": "<div style=\"max-height:1000px;max-width:1500px;overflow:auto;\">\n<table border=\"1\" class=\"dataframe\">\n  <thead>\n    <tr style=\"text-align: right;\">\n      <th></th>\n      <th>pop</th>\n      <th>state</th>\n      <th>year</th>\n    </tr>\n  </thead>\n  <tbody>\n    <tr>\n      <td><strong>0</strong></td>\n      <td> 1.5</td>\n      <td>   Ohio</td>\n      <td> 2000</td>\n    </tr>\n    <tr>\n      <td><strong>1</strong></td>\n      <td> 1.7</td>\n      <td>   Ohio</td>\n      <td> 2001</td>\n    </tr>\n    <tr>\n      <td><strong>2</strong></td>\n      <td> 3.6</td>\n      <td>   Ohio</td>\n      <td> 2002</td>\n    </tr>\n    <tr>\n      <td><strong>3</strong></td>\n      <td> 2.4</td>\n      <td> Nevada</td>\n      <td> 2001</td>\n    </tr>\n    <tr>\n      <td><strong>4</strong></td>\n      <td> 2.9</td>\n      <td> Nevada</td>\n      <td> 2002</td>\n    </tr>\n  </tbody>\n</table>\n</div>",
       "output_type": "pyout",
       "prompt_number": 34,
       "text": "   pop   state  year\n0  1.5    Ohio  2000\n1  1.7    Ohio  2001\n2  3.6    Ohio  2002\n3  2.4  Nevada  2001\n4  2.9  Nevada  2002"
      }
     ],
     "prompt_number": 34
    },
    {
     "cell_type": "code",
     "collapsed": false,
     "input": "df.unstack()",
     "language": "python",
     "metadata": {},
     "outputs": [
      {
       "output_type": "pyout",
       "prompt_number": 35,
       "text": "pop    0       1.5\n       1       1.7\n       2       3.6\n       3       2.4\n       4       2.9\nstate  0      Ohio\n       1      Ohio\n       2      Ohio\n       3    Nevada\n       4    Nevada\nyear   0      2000\n       1      2001\n       2      2002\n       3      2001\n       4      2002"
      }
     ],
     "prompt_number": 35
    },
    {
     "cell_type": "code",
     "collapsed": false,
     "input": "df.stack()",
     "language": "python",
     "metadata": {},
     "outputs": [
      {
       "output_type": "pyout",
       "prompt_number": 36,
       "text": "0  pop         1.5\n   state      Ohio\n   year       2000\n1  pop         1.7\n   state      Ohio\n   year       2001\n2  pop         3.6\n   state      Ohio\n   year       2002\n3  pop         2.4\n   state    Nevada\n   year       2001\n4  pop         2.9\n   state    Nevada\n   year       2002"
      }
     ],
     "prompt_number": 36
    },
    {
     "cell_type": "code",
     "collapsed": false,
     "input": "df.pivot_table('pop', rows = 'year', aggfunc = 'mean')",
     "language": "python",
     "metadata": {},
     "outputs": [
      {
       "output_type": "pyout",
       "prompt_number": 37,
       "text": "year\n2000    1.50\n2001    2.05\n2002    3.25\nName: pop"
      }
     ],
     "prompt_number": 37
    },
    {
     "cell_type": "code",
     "collapsed": false,
     "input": "df.pivot_table('pop', rows = 'state', aggfunc = 'median')",
     "language": "python",
     "metadata": {},
     "outputs": [
      {
       "output_type": "pyout",
       "prompt_number": 38,
       "text": "state\nNevada    2.65\nOhio      1.70\nName: pop"
      }
     ],
     "prompt_number": 38
    },
    {
     "cell_type": "code",
     "collapsed": false,
     "input": "\"\"\" SET FILE PATH & FILE NAMES OF DATA FILES \"\"\"\npath = 'D:/DSSG/pandas_presentation/'\nfile1 = 'users.dat'\nfile2 = 'movies.dat'\nfile3 = 'ratings.dat'",
     "language": "python",
     "metadata": {},
     "outputs": [],
     "prompt_number": 39
    },
    {
     "cell_type": "code",
     "collapsed": false,
     "input": "\"\"\" LOAD EACH TABLE INTO A PANDAS DATAFRAME OBJECT \"\"\"\n\nunames = ['user_id', 'gender', 'age', 'occupation', 'zip']\nusers = pd.read_table(path + file1, \n                      sep='::', header=None,names=unames)\n\nmnames = ['movie_id', 'title', 'genres']\nmovies = pd.read_table(path + file2, sep='::', header=None,\n                       names=mnames)\n\nrnames = ['user_id', 'movie_id', 'rating', 'timestamp']\nratings = pd.read_table(path + file3, sep='::', header=None,\n                        names=rnames)",
     "language": "python",
     "metadata": {},
     "outputs": [],
     "prompt_number": 40
    },
    {
     "cell_type": "code",
     "collapsed": false,
     "input": "# check \nratings[:5]",
     "language": "python",
     "metadata": {},
     "outputs": [
      {
       "html": "<div style=\"max-height:1000px;max-width:1500px;overflow:auto;\">\n<table border=\"1\" class=\"dataframe\">\n  <thead>\n    <tr style=\"text-align: right;\">\n      <th></th>\n      <th>user_id</th>\n      <th>movie_id</th>\n      <th>rating</th>\n      <th>timestamp</th>\n    </tr>\n  </thead>\n  <tbody>\n    <tr>\n      <td><strong>0</strong></td>\n      <td> 1</td>\n      <td> 1193</td>\n      <td> 5</td>\n      <td> 978300760</td>\n    </tr>\n    <tr>\n      <td><strong>1</strong></td>\n      <td> 1</td>\n      <td>  661</td>\n      <td> 3</td>\n      <td> 978302109</td>\n    </tr>\n    <tr>\n      <td><strong>2</strong></td>\n      <td> 1</td>\n      <td>  914</td>\n      <td> 3</td>\n      <td> 978301968</td>\n    </tr>\n    <tr>\n      <td><strong>3</strong></td>\n      <td> 1</td>\n      <td> 3408</td>\n      <td> 4</td>\n      <td> 978300275</td>\n    </tr>\n    <tr>\n      <td><strong>4</strong></td>\n      <td> 1</td>\n      <td> 2355</td>\n      <td> 5</td>\n      <td> 978824291</td>\n    </tr>\n  </tbody>\n</table>\n</div>",
       "output_type": "pyout",
       "prompt_number": 62,
       "text": "   user_id  movie_id  rating  timestamp\n0        1      1193       5  978300760\n1        1       661       3  978302109\n2        1       914       3  978301968\n3        1      3408       4  978300275\n4        1      2355       5  978824291"
      }
     ],
     "prompt_number": 62
    },
    {
     "cell_type": "code",
     "collapsed": false,
     "input": "# check\nusers[:5]",
     "language": "python",
     "metadata": {},
     "outputs": [
      {
       "html": "<div style=\"max-height:1000px;max-width:1500px;overflow:auto;\">\n<table border=\"1\" class=\"dataframe\">\n  <thead>\n    <tr style=\"text-align: right;\">\n      <th></th>\n      <th>user_id</th>\n      <th>gender</th>\n      <th>age</th>\n      <th>occupation</th>\n      <th>zip</th>\n    </tr>\n  </thead>\n  <tbody>\n    <tr>\n      <td><strong>0</strong></td>\n      <td> 1</td>\n      <td> F</td>\n      <td>  1</td>\n      <td> 10</td>\n      <td> 48067</td>\n    </tr>\n    <tr>\n      <td><strong>1</strong></td>\n      <td> 2</td>\n      <td> M</td>\n      <td> 56</td>\n      <td> 16</td>\n      <td> 70072</td>\n    </tr>\n    <tr>\n      <td><strong>2</strong></td>\n      <td> 3</td>\n      <td> M</td>\n      <td> 25</td>\n      <td> 15</td>\n      <td> 55117</td>\n    </tr>\n    <tr>\n      <td><strong>3</strong></td>\n      <td> 4</td>\n      <td> M</td>\n      <td> 45</td>\n      <td>  7</td>\n      <td> 02460</td>\n    </tr>\n    <tr>\n      <td><strong>4</strong></td>\n      <td> 5</td>\n      <td> M</td>\n      <td> 25</td>\n      <td> 20</td>\n      <td> 55455</td>\n    </tr>\n  </tbody>\n</table>\n</div>",
       "output_type": "pyout",
       "prompt_number": 63,
       "text": "   user_id gender  age  occupation    zip\n0        1      F    1          10  48067\n1        2      M   56          16  70072\n2        3      M   25          15  55117\n3        4      M   45           7  02460\n4        5      M   25          20  55455"
      }
     ],
     "prompt_number": 63
    },
    {
     "cell_type": "code",
     "collapsed": false,
     "input": "# check \nmovies[:5]",
     "language": "python",
     "metadata": {},
     "outputs": [
      {
       "html": "<div style=\"max-height:1000px;max-width:1500px;overflow:auto;\">\n<table border=\"1\" class=\"dataframe\">\n  <thead>\n    <tr style=\"text-align: right;\">\n      <th></th>\n      <th>movie_id</th>\n      <th>title</th>\n      <th>genres</th>\n    </tr>\n  </thead>\n  <tbody>\n    <tr>\n      <td><strong>0</strong></td>\n      <td> 1</td>\n      <td>                   Toy Story (1995)</td>\n      <td>  Animation|Children's|Comedy</td>\n    </tr>\n    <tr>\n      <td><strong>1</strong></td>\n      <td> 2</td>\n      <td>                     Jumanji (1995)</td>\n      <td> Adventure|Children's|Fantasy</td>\n    </tr>\n    <tr>\n      <td><strong>2</strong></td>\n      <td> 3</td>\n      <td>            Grumpier Old Men (1995)</td>\n      <td>               Comedy|Romance</td>\n    </tr>\n    <tr>\n      <td><strong>3</strong></td>\n      <td> 4</td>\n      <td>           Waiting to Exhale (1995)</td>\n      <td>                 Comedy|Drama</td>\n    </tr>\n    <tr>\n      <td><strong>4</strong></td>\n      <td> 5</td>\n      <td> Father of the Bride Part II (1995)</td>\n      <td>                       Comedy</td>\n    </tr>\n  </tbody>\n</table>\n</div>",
       "output_type": "pyout",
       "prompt_number": 64,
       "text": "   movie_id                               title                        genres\n0         1                    Toy Story (1995)   Animation|Children's|Comedy\n1         2                      Jumanji (1995)  Adventure|Children's|Fantasy\n2         3             Grumpier Old Men (1995)                Comedy|Romance\n3         4            Waiting to Exhale (1995)                  Comedy|Drama\n4         5  Father of the Bride Part II (1995)                        Comedy"
      }
     ],
     "prompt_number": 64
    },
    {
     "cell_type": "code",
     "collapsed": false,
     "input": "\"\"\"\" GET MEAN & STD OF 'rating' IN THE ratings DATAFRAME \"\"\"\nratings['rating'].describe()",
     "language": "python",
     "metadata": {},
     "outputs": [
      {
       "output_type": "pyout",
       "prompt_number": 43,
       "text": "count    1000209.000000\nmean           3.581564\nstd            1.117102\nmin            1.000000\n25%            3.000000\n50%            4.000000\n75%            4.000000\nmax            5.000000"
      }
     ],
     "prompt_number": 43
    },
    {
     "cell_type": "code",
     "collapsed": false,
     "input": "\"\"\" MERGE RATINGS WITH USERS \"\"\"\nd1 = pd.merge(ratings, users, on='user_id')\nd1[:5]",
     "language": "python",
     "metadata": {},
     "outputs": [
      {
       "html": "<div style=\"max-height:1000px;max-width:1500px;overflow:auto;\">\n<table border=\"1\" class=\"dataframe\">\n  <thead>\n    <tr style=\"text-align: right;\">\n      <th></th>\n      <th>user_id</th>\n      <th>movie_id</th>\n      <th>rating</th>\n      <th>timestamp</th>\n      <th>gender</th>\n      <th>age</th>\n      <th>occupation</th>\n      <th>zip</th>\n    </tr>\n  </thead>\n  <tbody>\n    <tr>\n      <td><strong>0</strong></td>\n      <td> 1</td>\n      <td> 1193</td>\n      <td> 5</td>\n      <td> 978300760</td>\n      <td> F</td>\n      <td> 1</td>\n      <td> 10</td>\n      <td> 48067</td>\n    </tr>\n    <tr>\n      <td><strong>1</strong></td>\n      <td> 1</td>\n      <td>  661</td>\n      <td> 3</td>\n      <td> 978302109</td>\n      <td> F</td>\n      <td> 1</td>\n      <td> 10</td>\n      <td> 48067</td>\n    </tr>\n    <tr>\n      <td><strong>2</strong></td>\n      <td> 1</td>\n      <td>  914</td>\n      <td> 3</td>\n      <td> 978301968</td>\n      <td> F</td>\n      <td> 1</td>\n      <td> 10</td>\n      <td> 48067</td>\n    </tr>\n    <tr>\n      <td><strong>3</strong></td>\n      <td> 1</td>\n      <td> 3408</td>\n      <td> 4</td>\n      <td> 978300275</td>\n      <td> F</td>\n      <td> 1</td>\n      <td> 10</td>\n      <td> 48067</td>\n    </tr>\n    <tr>\n      <td><strong>4</strong></td>\n      <td> 1</td>\n      <td> 2355</td>\n      <td> 5</td>\n      <td> 978824291</td>\n      <td> F</td>\n      <td> 1</td>\n      <td> 10</td>\n      <td> 48067</td>\n    </tr>\n  </tbody>\n</table>\n</div>",
       "output_type": "pyout",
       "prompt_number": 44,
       "text": "   user_id  movie_id  rating  timestamp gender  age  occupation    zip\n0        1      1193       5  978300760      F    1          10  48067\n1        1       661       3  978302109      F    1          10  48067\n2        1       914       3  978301968      F    1          10  48067\n3        1      3408       4  978300275      F    1          10  48067\n4        1      2355       5  978824291      F    1          10  48067"
      }
     ],
     "prompt_number": 44
    },
    {
     "cell_type": "code",
     "collapsed": false,
     "input": "\"\"\" MERGE ALL 3 TABLES IN ONE STEP \"\"\"\n# merge ratings & users based on \"user_id\" key\n# then merge the result with movies based on \"movie_id\" key\ndata = pd.merge(pd.merge(ratings, users, on='user_id'), movies, on='movie_id')",
     "language": "python",
     "metadata": {},
     "outputs": [],
     "prompt_number": 46
    },
    {
     "cell_type": "code",
     "collapsed": false,
     "input": "# check \ndata.columns",
     "language": "python",
     "metadata": {},
     "outputs": [
      {
       "output_type": "pyout",
       "prompt_number": 65,
       "text": "Index([user_id, movie_id, rating, timestamp, gender, age, occupation, zip, title, genres], dtype=object)"
      }
     ],
     "prompt_number": 65
    },
    {
     "cell_type": "code",
     "collapsed": false,
     "input": "#check \ndata.values[:5]",
     "language": "python",
     "metadata": {},
     "outputs": [
      {
       "output_type": "pyout",
       "prompt_number": 66,
       "text": "array([[1L, 1L, 5L, 978824268L, 'F', 1L, 10L, '48067', 'Toy Story (1995)',\n        \"Animation|Children's|Comedy\"],\n       [6L, 1L, 4L, 978237008L, 'F', 50L, 9L, '55117', 'Toy Story (1995)',\n        \"Animation|Children's|Comedy\"],\n       [8L, 1L, 4L, 978233496L, 'M', 25L, 12L, '11413', 'Toy Story (1995)',\n        \"Animation|Children's|Comedy\"],\n       [9L, 1L, 5L, 978225952L, 'M', 25L, 17L, '61614', 'Toy Story (1995)',\n        \"Animation|Children's|Comedy\"],\n       [10L, 1L, 5L, 978226474L, 'F', 35L, 1L, '95370', 'Toy Story (1995)',\n        \"Animation|Children's|Comedy\"]], dtype=object)"
      }
     ],
     "prompt_number": 66
    },
    {
     "cell_type": "code",
     "collapsed": false,
     "input": "\"\"\" WHAT IS IN ROW 1345 ? \"\"\"\ndata.ix[1345]  # or data.ix[1345,]",
     "language": "python",
     "metadata": {},
     "outputs": [
      {
       "output_type": "pyout",
       "prompt_number": 68,
       "text": "user_id                              3933\nmovie_id                                1\nrating                                  5\ntimestamp                       965701265\ngender                                  F\nage                                    35\noccupation                              6\nzip                                 48073\ntitle                    Toy Story (1995)\ngenres        Animation|Children's|Comedy\nName: 1345"
      }
     ],
     "prompt_number": 68
    },
    {
     "cell_type": "code",
     "collapsed": false,
     "input": "\"\"\" HOW MANY PEOPLE REVIEWED THE MOVIE GOLDEN EYE ? (movie_id=10) \"\"\"\nlen(data[data['movie_id']==10].values)",
     "language": "python",
     "metadata": {},
     "outputs": [
      {
       "output_type": "pyout",
       "prompt_number": 50,
       "text": "888"
      }
     ],
     "prompt_number": 50
    },
    {
     "cell_type": "code",
     "collapsed": false,
     "input": "\"\"\"\" COMPARE THE MEAN RATINGS FOR MEN & WOMEN FOR EACH MOVIE \"\"\" \nmean_ratings = data.pivot_table('rating', rows='title',\n                                cols='gender', aggfunc='mean')",
     "language": "python",
     "metadata": {},
     "outputs": [],
     "prompt_number": 51
    },
    {
     "cell_type": "code",
     "collapsed": false,
     "input": "# check \nmean_ratings[:5]\n",
     "language": "python",
     "metadata": {},
     "outputs": [
      {
       "html": "<div style=\"max-height:1000px;max-width:1500px;overflow:auto;\">\n<table border=\"1\" class=\"dataframe\">\n  <thead>\n    <tr style=\"text-align: right;\">\n      <th>gender</th>\n      <th>F</th>\n      <th>M</th>\n    </tr>\n    <tr>\n      <th>title</th>\n      <th></th>\n      <th></th>\n    </tr>\n  </thead>\n  <tbody>\n    <tr>\n      <td><strong>$1,000,000 Duck (1971)</strong></td>\n      <td> 3.375000</td>\n      <td> 2.761905</td>\n    </tr>\n    <tr>\n      <td><strong>'Night Mother (1986)</strong></td>\n      <td> 3.388889</td>\n      <td> 3.352941</td>\n    </tr>\n    <tr>\n      <td><strong>'Til There Was You (1997)</strong></td>\n      <td> 2.675676</td>\n      <td> 2.733333</td>\n    </tr>\n    <tr>\n      <td><strong>'burbs, The (1989)</strong></td>\n      <td> 2.793478</td>\n      <td> 2.962085</td>\n    </tr>\n    <tr>\n      <td><strong>...And Justice for All (1979)</strong></td>\n      <td> 3.828571</td>\n      <td> 3.689024</td>\n    </tr>\n  </tbody>\n</table>\n</div>",
       "output_type": "pyout",
       "prompt_number": 52,
       "text": "gender                                F         M\ntitle                                            \n$1,000,000 Duck (1971)         3.375000  2.761905\n'Night Mother (1986)           3.388889  3.352941\n'Til There Was You (1997)      2.675676  2.733333\n'burbs, The (1989)             2.793478  2.962085\n...And Justice for All (1979)  3.828571  3.689024"
      }
     ],
     "prompt_number": 52
    },
    {
     "cell_type": "code",
     "collapsed": false,
     "input": "\"\"\" SELECT ONLY MOVIES THAT RECEIVED AT LEAST 500 RATINGS \"\"\"\n# group the data by title and use size() to get a Series \n# of group sizes for each title\nratings_by_title = data.groupby('title').size()\nactive_titles = ratings_by_title.index[ratings_by_title >= 500]",
     "language": "python",
     "metadata": {},
     "outputs": [],
     "prompt_number": 53
    },
    {
     "cell_type": "code",
     "collapsed": false,
     "input": "# check \nactive_titles[:10]\nactive_titles.size",
     "language": "python",
     "metadata": {},
     "outputs": [
      {
       "output_type": "pyout",
       "prompt_number": 54,
       "text": "618"
      }
     ],
     "prompt_number": 54
    },
    {
     "cell_type": "code",
     "collapsed": false,
     "input": "\"\"\" EXTRACT THESE MOVIES (the ones in active_titles) FROM mean_ratings \"\"\"\nactive_mean_ratings = mean_ratings.ix[active_titles]\nactive_mean_ratings[:10]\n",
     "language": "python",
     "metadata": {},
     "outputs": [
      {
       "html": "<div style=\"max-height:1000px;max-width:1500px;overflow:auto;\">\n<table border=\"1\" class=\"dataframe\">\n  <thead>\n    <tr style=\"text-align: right;\">\n      <th>gender</th>\n      <th>F</th>\n      <th>M</th>\n    </tr>\n    <tr>\n      <th>title</th>\n      <th></th>\n      <th></th>\n    </tr>\n  </thead>\n  <tbody>\n    <tr>\n      <td><strong>10 Things I Hate About You (1999)</strong></td>\n      <td> 3.646552</td>\n      <td> 3.311966</td>\n    </tr>\n    <tr>\n      <td><strong>101 Dalmatians (1961)</strong></td>\n      <td> 3.791444</td>\n      <td> 3.500000</td>\n    </tr>\n    <tr>\n      <td><strong>12 Angry Men (1957)</strong></td>\n      <td> 4.184397</td>\n      <td> 4.328421</td>\n    </tr>\n    <tr>\n      <td><strong>13th Warrior, The (1999)</strong></td>\n      <td> 3.112000</td>\n      <td> 3.168000</td>\n    </tr>\n    <tr>\n      <td><strong>20,000 Leagues Under the Sea (1954)</strong></td>\n      <td> 3.670103</td>\n      <td> 3.709205</td>\n    </tr>\n    <tr>\n      <td><strong>2001: A Space Odyssey (1968)</strong></td>\n      <td> 3.825581</td>\n      <td> 4.129738</td>\n    </tr>\n    <tr>\n      <td><strong>28 Days (2000)</strong></td>\n      <td> 3.209424</td>\n      <td> 2.977707</td>\n    </tr>\n    <tr>\n      <td><strong>Abyss, The (1989)</strong></td>\n      <td> 3.659236</td>\n      <td> 3.689507</td>\n    </tr>\n    <tr>\n      <td><strong>Ace Ventura: Pet Detective (1994)</strong></td>\n      <td> 3.000000</td>\n      <td> 3.197917</td>\n    </tr>\n    <tr>\n      <td><strong>Addams Family, The (1991)</strong></td>\n      <td> 3.186170</td>\n      <td> 3.163498</td>\n    </tr>\n  </tbody>\n</table>\n</div>",
       "output_type": "pyout",
       "prompt_number": 55,
       "text": "gender                                      F         M\ntitle                                                  \n10 Things I Hate About You (1999)    3.646552  3.311966\n101 Dalmatians (1961)                3.791444  3.500000\n12 Angry Men (1957)                  4.184397  4.328421\n13th Warrior, The (1999)             3.112000  3.168000\n20,000 Leagues Under the Sea (1954)  3.670103  3.709205\n2001: A Space Odyssey (1968)         3.825581  4.129738\n28 Days (2000)                       3.209424  2.977707\nAbyss, The (1989)                    3.659236  3.689507\nAce Ventura: Pet Detective (1994)    3.000000  3.197917\nAddams Family, The (1991)            3.186170  3.163498"
      }
     ],
     "prompt_number": 55
    },
    {
     "cell_type": "code",
     "collapsed": false,
     "input": "\"\"\" WHAT ARE THE TOP 5 MOVIES AMONG MALE & FEMALE VIEWERS ? \"\"\"\n#sort by the F column in descending order\ntop_f_ratings = active_mean_ratings.sort_index(by='F', ascending=False)\ntop_f_ratings[:5]\ntop_m_ratings = active_mean_ratings.sort_index(by='M', ascending=False)\ntop_m_ratings.index[:5]",
     "language": "python",
     "metadata": {},
     "outputs": [
      {
       "output_type": "pyout",
       "prompt_number": 56,
       "text": "Index([Godfather, The (1972), Seven Samurai (The Magnificent Seven) (Shichinin no samurai) (1954), Shawshank Redemption, The (1994), Raiders of the Lost Ark (1981), Usual Suspects, The (1995)], dtype=object)"
      }
     ],
     "prompt_number": 56
    },
    {
     "cell_type": "code",
     "collapsed": false,
     "input": "\"\"\" WHICH MOVIES HAVE THE HIGHEST DIFFERENCE IN RATINGS? \"\"\"\nactive_mean_ratings['diff'] = active_mean_ratings['M'] - active_mean_ratings['F']\nsorted_by_diff = active_mean_ratings.sort_index(by='diff')\nsorted_by_diff[:10]",
     "language": "python",
     "metadata": {},
     "outputs": [
      {
       "html": "<div style=\"max-height:1000px;max-width:1500px;overflow:auto;\">\n<table border=\"1\" class=\"dataframe\">\n  <thead>\n    <tr style=\"text-align: right;\">\n      <th>gender</th>\n      <th>F</th>\n      <th>M</th>\n      <th>diff</th>\n    </tr>\n    <tr>\n      <th>title</th>\n      <th></th>\n      <th></th>\n      <th></th>\n    </tr>\n  </thead>\n  <tbody>\n    <tr>\n      <td><strong>Dirty Dancing (1987)</strong></td>\n      <td> 3.790378</td>\n      <td> 2.959596</td>\n      <td>-0.830782</td>\n    </tr>\n    <tr>\n      <td><strong>Grease (1978)</strong></td>\n      <td> 3.975265</td>\n      <td> 3.367041</td>\n      <td>-0.608224</td>\n    </tr>\n    <tr>\n      <td><strong>Rocky Horror Picture Show, The (1975)</strong></td>\n      <td> 3.673016</td>\n      <td> 3.160131</td>\n      <td>-0.512885</td>\n    </tr>\n    <tr>\n      <td><strong>Mary Poppins (1964)</strong></td>\n      <td> 4.197740</td>\n      <td> 3.730594</td>\n      <td>-0.467147</td>\n    </tr>\n    <tr>\n      <td><strong>Sound of Music, The (1965)</strong></td>\n      <td> 4.233677</td>\n      <td> 3.783418</td>\n      <td>-0.450259</td>\n    </tr>\n    <tr>\n      <td><strong>Never Been Kissed (1999)</strong></td>\n      <td> 3.452174</td>\n      <td> 3.002538</td>\n      <td>-0.449636</td>\n    </tr>\n    <tr>\n      <td><strong>Jewel of the Nile, The (1985)</strong></td>\n      <td> 3.494253</td>\n      <td> 3.048096</td>\n      <td>-0.446157</td>\n    </tr>\n    <tr>\n      <td><strong>Gone with the Wind (1939)</strong></td>\n      <td> 4.269841</td>\n      <td> 3.829371</td>\n      <td>-0.440471</td>\n    </tr>\n    <tr>\n      <td><strong>Sense and Sensibility (1995)</strong></td>\n      <td> 4.233333</td>\n      <td> 3.819277</td>\n      <td>-0.414056</td>\n    </tr>\n    <tr>\n      <td><strong>Pretty in Pink (1986)</strong></td>\n      <td> 3.619772</td>\n      <td> 3.211628</td>\n      <td>-0.408144</td>\n    </tr>\n  </tbody>\n</table>\n</div>",
       "output_type": "pyout",
       "prompt_number": 57,
       "text": "gender                                        F         M      diff\ntitle                                                              \nDirty Dancing (1987)                   3.790378  2.959596 -0.830782\nGrease (1978)                          3.975265  3.367041 -0.608224\nRocky Horror Picture Show, The (1975)  3.673016  3.160131 -0.512885\nMary Poppins (1964)                    4.197740  3.730594 -0.467147\nSound of Music, The (1965)             4.233677  3.783418 -0.450259\nNever Been Kissed (1999)               3.452174  3.002538 -0.449636\nJewel of the Nile, The (1985)          3.494253  3.048096 -0.446157\nGone with the Wind (1939)              4.269841  3.829371 -0.440471\nSense and Sensibility (1995)           4.233333  3.819277 -0.414056\nPretty in Pink (1986)                  3.619772  3.211628 -0.408144"
      }
     ],
     "prompt_number": 57
    },
    {
     "cell_type": "code",
     "collapsed": false,
     "input": "\"\"\" WHICH MOVIES HAVE THE SMALLEST DIFFERENCE IN RATINGS? \"\"\" \n#Reverse order of rows, take first 10 rows\nsorted_by_diff[::-1][:10]",
     "language": "python",
     "metadata": {},
     "outputs": [
      {
       "html": "<div style=\"max-height:1000px;max-width:1500px;overflow:auto;\">\n<table border=\"1\" class=\"dataframe\">\n  <thead>\n    <tr style=\"text-align: right;\">\n      <th>gender</th>\n      <th>F</th>\n      <th>M</th>\n      <th>diff</th>\n    </tr>\n    <tr>\n      <th>title</th>\n      <th></th>\n      <th></th>\n      <th></th>\n    </tr>\n  </thead>\n  <tbody>\n    <tr>\n      <td><strong>Good, The Bad and The Ugly, The (1966)</strong></td>\n      <td> 3.494949</td>\n      <td> 4.221300</td>\n      <td> 0.726351</td>\n    </tr>\n    <tr>\n      <td><strong>Dumb & Dumber (1994)</strong></td>\n      <td> 2.697987</td>\n      <td> 3.336595</td>\n      <td> 0.638608</td>\n    </tr>\n    <tr>\n      <td><strong>Evil Dead II (Dead By Dawn) (1987)</strong></td>\n      <td> 3.297297</td>\n      <td> 3.909283</td>\n      <td> 0.611985</td>\n    </tr>\n    <tr>\n      <td><strong>Caddyshack (1980)</strong></td>\n      <td> 3.396135</td>\n      <td> 3.969737</td>\n      <td> 0.573602</td>\n    </tr>\n    <tr>\n      <td><strong>Animal House (1978)</strong></td>\n      <td> 3.628906</td>\n      <td> 4.167192</td>\n      <td> 0.538286</td>\n    </tr>\n    <tr>\n      <td><strong>Exorcist, The (1973)</strong></td>\n      <td> 3.537634</td>\n      <td> 4.067239</td>\n      <td> 0.529605</td>\n    </tr>\n    <tr>\n      <td><strong>Big Trouble in Little China (1986)</strong></td>\n      <td> 2.987952</td>\n      <td> 3.485030</td>\n      <td> 0.497078</td>\n    </tr>\n    <tr>\n      <td><strong>From Dusk Till Dawn (1996)</strong></td>\n      <td> 2.735714</td>\n      <td> 3.232558</td>\n      <td> 0.496844</td>\n    </tr>\n    <tr>\n      <td><strong>Me, Myself and Irene (2000)</strong></td>\n      <td> 2.629310</td>\n      <td> 3.096847</td>\n      <td> 0.467537</td>\n    </tr>\n    <tr>\n      <td><strong>Kingpin (1996)</strong></td>\n      <td> 3.092308</td>\n      <td> 3.557480</td>\n      <td> 0.465173</td>\n    </tr>\n  </tbody>\n</table>\n</div>",
       "output_type": "pyout",
       "prompt_number": 58,
       "text": "gender                                         F         M      diff\ntitle                                                               \nGood, The Bad and The Ugly, The (1966)  3.494949  4.221300  0.726351\nDumb & Dumber (1994)                    2.697987  3.336595  0.638608\nEvil Dead II (Dead By Dawn) (1987)      3.297297  3.909283  0.611985\nCaddyshack (1980)                       3.396135  3.969737  0.573602\nAnimal House (1978)                     3.628906  4.167192  0.538286\nExorcist, The (1973)                    3.537634  4.067239  0.529605\nBig Trouble in Little China (1986)      2.987952  3.485030  0.497078\nFrom Dusk Till Dawn (1996)              2.735714  3.232558  0.496844\nMe, Myself and Irene (2000)             2.629310  3.096847  0.467537\nKingpin (1996)                          3.092308  3.557480  0.465173"
      }
     ],
     "prompt_number": 58
    },
    {
     "cell_type": "code",
     "collapsed": false,
     "input": "\"\"\" APPLYMAP: FORMAT THE RATING TO HAVE 2 DECIMAL PLACES \"\"\"\nformat = lambda x: '%.2f' % x\nformatted_f_ratings = top_f_ratings.applymap(format)\nformatted_f_ratings[:10]",
     "language": "python",
     "metadata": {},
     "outputs": [
      {
       "html": "<div style=\"max-height:1000px;max-width:1500px;overflow:auto;\">\n<table border=\"1\" class=\"dataframe\">\n  <thead>\n    <tr style=\"text-align: right;\">\n      <th></th>\n      <th>F</th>\n      <th>M</th>\n    </tr>\n    <tr>\n      <th>title</th>\n      <th></th>\n      <th></th>\n    </tr>\n  </thead>\n  <tbody>\n    <tr>\n      <td><strong>Close Shave, A (1995)</strong></td>\n      <td> 4.64</td>\n      <td> 4.47</td>\n    </tr>\n    <tr>\n      <td><strong>Wrong Trousers, The (1993)</strong></td>\n      <td> 4.59</td>\n      <td> 4.48</td>\n    </tr>\n    <tr>\n      <td><strong>Schindler's List (1993)</strong></td>\n      <td> 4.56</td>\n      <td> 4.49</td>\n    </tr>\n    <tr>\n      <td><strong>Shawshank Redemption, The (1994)</strong></td>\n      <td> 4.54</td>\n      <td> 4.56</td>\n    </tr>\n    <tr>\n      <td><strong>To Kill a Mockingbird (1962)</strong></td>\n      <td> 4.54</td>\n      <td> 4.37</td>\n    </tr>\n    <tr>\n      <td><strong>Usual Suspects, The (1995)</strong></td>\n      <td> 4.51</td>\n      <td> 4.52</td>\n    </tr>\n    <tr>\n      <td><strong>Rear Window (1954)</strong></td>\n      <td> 4.48</td>\n      <td> 4.47</td>\n    </tr>\n    <tr>\n      <td><strong>Seven Samurai (The Magnificent Seven) (Shichinin no samurai) (1954)</strong></td>\n      <td> 4.48</td>\n      <td> 4.58</td>\n    </tr>\n    <tr>\n      <td><strong>Sixth Sense, The (1999)</strong></td>\n      <td> 4.48</td>\n      <td> 4.38</td>\n    </tr>\n    <tr>\n      <td><strong>Some Like It Hot (1959)</strong></td>\n      <td> 4.46</td>\n      <td> 4.23</td>\n    </tr>\n  </tbody>\n</table>\n</div>",
       "output_type": "pyout",
       "prompt_number": 59,
       "text": "                                                                        F     M\ntitle                                                                          \nClose Shave, A (1995)                                                4.64  4.47\nWrong Trousers, The (1993)                                           4.59  4.48\nSchindler's List (1993)                                              4.56  4.49\nShawshank Redemption, The (1994)                                     4.54  4.56\nTo Kill a Mockingbird (1962)                                         4.54  4.37\nUsual Suspects, The (1995)                                           4.51  4.52\nRear Window (1954)                                                   4.48  4.47\nSeven Samurai (The Magnificent Seven) (Shichinin no samurai) (1954)  4.48  4.58\nSixth Sense, The (1999)                                              4.48  4.38\nSome Like It Hot (1959)                                              4.46  4.23"
      }
     ],
     "prompt_number": 59
    },
    {
     "cell_type": "code",
     "collapsed": false,
     "input": "\"\"\" FIND THE DIFFERENCE BETWEEN MALE & FEMALE RATINGS FOR EACH MOVIE \n    APPLY A CUSTOM FUNCTION TO EACH ROW OF top_f_ratings\n\"\"\"\nf = lambda x: x.max() - x.min()\ntop_f_ratings.apply(f)\nmovie_dif = top_f_ratings.apply(f, axis=1)  #axis=1 is 'columns'\nmovie_dif[:10]",
     "language": "python",
     "metadata": {},
     "outputs": [
      {
       "output_type": "pyout",
       "prompt_number": 60,
       "text": "title\nClose Shave, A (1995)                                           0.170650\nWrong Trousers, The (1993)                                      0.109974\nSchindler's List (1993)                                         0.071187\nShawshank Redemption, The (1994)                                0.021550\nTo Kill a Mockingbird (1962)                                    0.164055\nUsual Suspects, The (1995)                                      0.004931\nRear Window (1954)                                              0.011545\nSeven Samurai (The Magnificent Seven) (Shichinin no samurai) (1954)    0.095496\nSixth Sense, The (1999)                                         0.097465\nSome Like It Hot (1959)                                         0.233976"
      }
     ],
     "prompt_number": 60
    }
   ],
   "metadata": {}
  }
 ]
}